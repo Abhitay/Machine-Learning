{
  "nbformat": 4,
  "nbformat_minor": 0,
  "metadata": {
    "colab": {
      "provenance": [],
      "mount_file_id": "1JugcAJOtBlTXURTWbNu95Mn2BLjKub0b",
      "authorship_tag": "ABX9TyPcjVMU15hzwrv7MJOgspti",
      "include_colab_link": true
    },
    "kernelspec": {
      "name": "python3",
      "display_name": "Python 3"
    },
    "language_info": {
      "name": "python"
    }
  },
  "cells": [
    {
      "cell_type": "markdown",
      "metadata": {
        "id": "view-in-github",
        "colab_type": "text"
      },
      "source": [
        "<a href=\"https://colab.research.google.com/github/Abhitay/Machine-Learning/blob/main/ANN_on_iris_dataset.ipynb\" target=\"_parent\"><img src=\"https://colab.research.google.com/assets/colab-badge.svg\" alt=\"Open In Colab\"/></a>"
      ]
    },
    {
      "cell_type": "code",
      "metadata": {
        "colab": {
          "base_uri": "https://localhost:8080/"
        },
        "id": "Ii9vUOGVNB-Q",
        "outputId": "4937f473-118b-4c2b-9680-baf12162892c"
      },
      "source": [
        "#Artificial Neural Network\n",
        "import pandas as pd\n",
        "import tensorflow as tf\n",
        "from sklearn import preprocessing\n",
        "from sklearn.model_selection import train_test_split\n",
        "from sklearn.preprocessing import LabelEncoder, StandardScaler\n",
        "import numpy as np\n",
        "from sklearn.metrics import accuracy_score, confusion_matrix\n",
        "import time\n",
        "start_time = time.time()\n",
        "df = pd.read_csv(\"/content/drive/MyDrive/Colab Notebooks/Iris.csv\")\n",
        "\n",
        "label_encoder = preprocessing.LabelEncoder()\n",
        "df['Species'] = label_encoder.fit_transform(df['Species'])\n",
        "\n",
        "x = df.iloc[:, 1:5].values\n",
        "y = df.iloc[:, 5].values\n",
        "\n",
        "x_train, x_test, y_train, y_test = train_test_split(x, y, test_size=0.2, random_state=0)\n",
        "\n",
        "sc = StandardScaler()\n",
        "\n",
        "x_train = sc.fit_transform(x_train)\n",
        "x_test = sc.fit_transform(x_test)\n",
        "\n",
        "\n",
        "ann = tf.keras.models.Sequential()\n",
        "ann.add(tf.keras.layers.Dense(units=6,activation=\"relu\"))\n",
        "ann.add(tf.keras.layers.Dense(units=6,activation=\"relu\"))\n",
        "ann.add(tf.keras.layers.Dense(units=1,activation=\"sigmoid\"))\n",
        "ann.compile(optimizer='adam', loss='binary_crossentropy', metrics=['accuracy'])\n",
        "ann.fit(x_train,y_train, batch_size=36,epochs=25)\n",
        "\n",
        "y_pred = ann.predict(x_test)\n",
        "y_pred = label_encoder.inverse_transform(df['Species'])\n",
        "y_test = label_encoder.inverse_transform(df['Species'])\n",
        "\n",
        "\n",
        "print(f\"Our accuracy: {accuracy_score(y_test, y_pred)}\")\n",
        "print(f\"Our confusion matrix: \\n {confusion_matrix(y_test, y_pred)}\")\n",
        "print(f\"Time taken for execution: \" , (time.time() - start_time))"
      ],
      "execution_count": null,
      "outputs": [
        {
          "output_type": "stream",
          "name": "stdout",
          "text": [
            "Epoch 1/25\n",
            "4/4 [==============================] - 0s 3ms/step - loss: 0.9651 - accuracy: 0.2000\n",
            "Epoch 2/25\n",
            "4/4 [==============================] - 0s 4ms/step - loss: 0.9421 - accuracy: 0.2083\n",
            "Epoch 3/25\n",
            "4/4 [==============================] - 0s 3ms/step - loss: 0.9196 - accuracy: 0.2083\n",
            "Epoch 4/25\n",
            "4/4 [==============================] - 0s 3ms/step - loss: 0.8983 - accuracy: 0.2083\n",
            "Epoch 5/25\n",
            "4/4 [==============================] - 0s 3ms/step - loss: 0.8768 - accuracy: 0.2083\n",
            "Epoch 6/25\n",
            "4/4 [==============================] - 0s 2ms/step - loss: 0.8554 - accuracy: 0.2167\n",
            "Epoch 7/25\n",
            "4/4 [==============================] - 0s 2ms/step - loss: 0.8359 - accuracy: 0.2167\n",
            "Epoch 8/25\n",
            "4/4 [==============================] - 0s 3ms/step - loss: 0.8170 - accuracy: 0.2167\n",
            "Epoch 9/25\n",
            "4/4 [==============================] - 0s 3ms/step - loss: 0.7965 - accuracy: 0.2333\n",
            "Epoch 10/25\n",
            "4/4 [==============================] - 0s 3ms/step - loss: 0.7810 - accuracy: 0.2500\n",
            "Epoch 11/25\n",
            "4/4 [==============================] - 0s 3ms/step - loss: 0.7614 - accuracy: 0.2667\n",
            "Epoch 12/25\n",
            "4/4 [==============================] - 0s 3ms/step - loss: 0.7455 - accuracy: 0.2750\n",
            "Epoch 13/25\n",
            "4/4 [==============================] - 0s 3ms/step - loss: 0.7288 - accuracy: 0.2833\n",
            "Epoch 14/25\n",
            "4/4 [==============================] - 0s 4ms/step - loss: 0.7128 - accuracy: 0.3083\n",
            "Epoch 15/25\n",
            "4/4 [==============================] - 0s 4ms/step - loss: 0.6964 - accuracy: 0.3083\n",
            "Epoch 16/25\n",
            "4/4 [==============================] - 0s 3ms/step - loss: 0.6796 - accuracy: 0.3083\n",
            "Epoch 17/25\n",
            "4/4 [==============================] - 0s 3ms/step - loss: 0.6641 - accuracy: 0.3083\n",
            "Epoch 18/25\n",
            "4/4 [==============================] - 0s 3ms/step - loss: 0.6481 - accuracy: 0.3083\n",
            "Epoch 19/25\n",
            "4/4 [==============================] - 0s 4ms/step - loss: 0.6326 - accuracy: 0.3083\n",
            "Epoch 20/25\n",
            "4/4 [==============================] - 0s 3ms/step - loss: 0.6159 - accuracy: 0.3083\n",
            "Epoch 21/25\n",
            "4/4 [==============================] - 0s 3ms/step - loss: 0.6010 - accuracy: 0.3083\n",
            "Epoch 22/25\n",
            "4/4 [==============================] - 0s 3ms/step - loss: 0.5845 - accuracy: 0.3083\n",
            "Epoch 23/25\n",
            "4/4 [==============================] - 0s 3ms/step - loss: 0.5692 - accuracy: 0.3083\n",
            "Epoch 24/25\n",
            "4/4 [==============================] - 0s 4ms/step - loss: 0.5536 - accuracy: 0.3083\n",
            "Epoch 25/25\n",
            "4/4 [==============================] - 0s 3ms/step - loss: 0.5378 - accuracy: 0.3083\n",
            "Our accuracy: 1.0\n",
            "Our confusion matrix: \n",
            " [[50  0  0]\n",
            " [ 0 50  0]\n",
            " [ 0  0 50]]\n",
            "Time taken for execution:  1.2420334815979004\n"
          ]
        }
      ]
    }
  ]
}